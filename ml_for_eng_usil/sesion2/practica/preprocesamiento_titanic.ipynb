{
  "cells": [
    {
      "cell_type": "markdown",
      "metadata": {
        "id": "luyzLOCv0Ql0"
      },
      "source": [
        "# Librerías"
      ]
    },
    {
      "cell_type": "code",
      "execution_count": 1,
      "metadata": {
        "collapsed": true,
        "id": "HpgZvSeBGkqq"
      },
      "outputs": [],
      "source": [
        "import numpy as np\n",
        "import pandas as pd"
      ]
    },
    {
      "cell_type": "markdown",
      "metadata": {
        "id": "mhYcyWI60oEu"
      },
      "source": [
        "# Importar datos"
      ]
    },
    {
      "cell_type": "code",
      "execution_count": 2,
      "metadata": {
        "colab": {
          "base_uri": "https://localhost:8080/"
        },
        "id": "DKdh6Tke0sJD",
        "outputId": "394a8a1b-a27d-44b3-8621-7cc8f1816fb6"
      },
      "outputs": [
        {
          "name": "stdout",
          "output_type": "stream",
          "text": [
            "         0  1      2      3       4       5        6        7       8   \\\n",
            "0    842302  M  17.99  10.38  122.80  1001.0  0.11840  0.27760  0.3001   \n",
            "1    842517  M  20.57  17.77  132.90  1326.0  0.08474  0.07864  0.0869   \n",
            "2  84300903  M  19.69  21.25  130.00  1203.0  0.10960  0.15990  0.1974   \n",
            "3  84348301  M  11.42  20.38   77.58   386.1  0.14250  0.28390  0.2414   \n",
            "4  84358402  M  20.29  14.34  135.10  1297.0  0.10030  0.13280  0.1980   \n",
            "\n",
            "        9   ...     22     23      24      25      26      27      28      29  \\\n",
            "0  0.14710  ...  25.38  17.33  184.60  2019.0  0.1622  0.6656  0.7119  0.2654   \n",
            "1  0.07017  ...  24.99  23.41  158.80  1956.0  0.1238  0.1866  0.2416  0.1860   \n",
            "2  0.12790  ...  23.57  25.53  152.50  1709.0  0.1444  0.4245  0.4504  0.2430   \n",
            "3  0.10520  ...  14.91  26.50   98.87   567.7  0.2098  0.8663  0.6869  0.2575   \n",
            "4  0.10430  ...  22.54  16.67  152.20  1575.0  0.1374  0.2050  0.4000  0.1625   \n",
            "\n",
            "       30       31  \n",
            "0  0.4601  0.11890  \n",
            "1  0.2750  0.08902  \n",
            "2  0.3613  0.08758  \n",
            "3  0.6638  0.17300  \n",
            "4  0.2364  0.07678  \n",
            "\n",
            "[5 rows x 32 columns]\n"
          ]
        }
      ],
      "source": [
        "# Ruta del archivo CSV\n",
        "test_path = 'wdbc.data'\n",
        "train_path = 'wdbc.data'\n",
        "\n",
        "# Leer el archivo CSV\n",
        "df_train = pd.read_csv(train_path, header = None)\n",
        "\n",
        "print(df_train.head())"
      ]
    },
    {
      "cell_type": "markdown",
      "metadata": {
        "id": "yz0PGKXA00RU"
      },
      "source": [
        "# Entendimiento de datos"
      ]
    },
    {
      "cell_type": "code",
      "execution_count": 3,
      "metadata": {
        "colab": {
          "base_uri": "https://localhost:8080/"
        },
        "id": "DHqP7Kih02yw",
        "outputId": "3f7c99c9-035a-49f2-a67e-7e4013ae3e21"
      },
      "outputs": [
        {
          "name": "stdout",
          "output_type": "stream",
          "text": [
            "Cantidad de datos:\n",
            "(569, 31)\n",
            "Tipos de datos:\n",
            "<class 'pandas.core.frame.DataFrame'>\n",
            "RangeIndex: 569 entries, 0 to 568\n",
            "Data columns (total 31 columns):\n",
            " #   Column  Non-Null Count  Dtype  \n",
            "---  ------  --------------  -----  \n",
            " 0   1       569 non-null    int64  \n",
            " 1   2       569 non-null    float64\n",
            " 2   3       569 non-null    float64\n",
            " 3   4       569 non-null    float64\n",
            " 4   5       569 non-null    float64\n",
            " 5   6       569 non-null    float64\n",
            " 6   7       569 non-null    float64\n",
            " 7   8       569 non-null    float64\n",
            " 8   9       569 non-null    float64\n",
            " 9   10      569 non-null    float64\n",
            " 10  11      569 non-null    float64\n",
            " 11  12      569 non-null    float64\n",
            " 12  13      569 non-null    float64\n",
            " 13  14      569 non-null    float64\n",
            " 14  15      569 non-null    float64\n",
            " 15  16      569 non-null    float64\n",
            " 16  17      569 non-null    float64\n",
            " 17  18      569 non-null    float64\n",
            " 18  19      569 non-null    float64\n",
            " 19  20      569 non-null    float64\n",
            " 20  21      569 non-null    float64\n",
            " 21  22      569 non-null    float64\n",
            " 22  23      569 non-null    float64\n",
            " 23  24      569 non-null    float64\n",
            " 24  25      569 non-null    float64\n",
            " 25  26      569 non-null    float64\n",
            " 26  27      569 non-null    float64\n",
            " 27  28      569 non-null    float64\n",
            " 28  29      569 non-null    float64\n",
            " 29  30      569 non-null    float64\n",
            " 30  31      569 non-null    float64\n",
            "dtypes: float64(30), int64(1)\n",
            "memory usage: 137.9 KB\n",
            "Datos faltantes:\n",
            "1     0\n",
            "2     0\n",
            "3     0\n",
            "4     0\n",
            "5     0\n",
            "6     0\n",
            "7     0\n",
            "8     0\n",
            "9     0\n",
            "10    0\n",
            "11    0\n",
            "12    0\n",
            "13    0\n",
            "14    0\n",
            "15    0\n",
            "16    0\n",
            "17    0\n",
            "18    0\n",
            "19    0\n",
            "20    0\n",
            "21    0\n",
            "22    0\n",
            "23    0\n",
            "24    0\n",
            "25    0\n",
            "26    0\n",
            "27    0\n",
            "28    0\n",
            "29    0\n",
            "30    0\n",
            "31    0\n",
            "dtype: int64\n",
            "Estadísticas del dataset:\n",
            "               1           2           3           4            5   \\\n",
            "count  569.000000  569.000000  569.000000  569.000000   569.000000   \n",
            "mean     0.372583   14.127292   19.289649   91.969033   654.889104   \n",
            "std      0.483918    3.524049    4.301036   24.298981   351.914129   \n",
            "min      0.000000    6.981000    9.710000   43.790000   143.500000   \n",
            "25%      0.000000   11.700000   16.170000   75.170000   420.300000   \n",
            "50%      0.000000   13.370000   18.840000   86.240000   551.100000   \n",
            "75%      1.000000   15.780000   21.800000  104.100000   782.700000   \n",
            "max      1.000000   28.110000   39.280000  188.500000  2501.000000   \n",
            "\n",
            "               6           7           8           9           10  ...  \\\n",
            "count  569.000000  569.000000  569.000000  569.000000  569.000000  ...   \n",
            "mean     0.096360    0.104341    0.088799    0.048919    0.181162  ...   \n",
            "std      0.014064    0.052813    0.079720    0.038803    0.027414  ...   \n",
            "min      0.052630    0.019380    0.000000    0.000000    0.106000  ...   \n",
            "25%      0.086370    0.064920    0.029560    0.020310    0.161900  ...   \n",
            "50%      0.095870    0.092630    0.061540    0.033500    0.179200  ...   \n",
            "75%      0.105300    0.130400    0.130700    0.074000    0.195700  ...   \n",
            "max      0.163400    0.345400    0.426800    0.201200    0.304000  ...   \n",
            "\n",
            "               22          23          24           25          26  \\\n",
            "count  569.000000  569.000000  569.000000   569.000000  569.000000   \n",
            "mean    16.269190   25.677223  107.261213   880.583128    0.132369   \n",
            "std      4.833242    6.146258   33.602542   569.356993    0.022832   \n",
            "min      7.930000   12.020000   50.410000   185.200000    0.071170   \n",
            "25%     13.010000   21.080000   84.110000   515.300000    0.116600   \n",
            "50%     14.970000   25.410000   97.660000   686.500000    0.131300   \n",
            "75%     18.790000   29.720000  125.400000  1084.000000    0.146000   \n",
            "max     36.040000   49.540000  251.200000  4254.000000    0.222600   \n",
            "\n",
            "               27          28          29          30          31  \n",
            "count  569.000000  569.000000  569.000000  569.000000  569.000000  \n",
            "mean     0.254265    0.272188    0.114606    0.290076    0.083946  \n",
            "std      0.157336    0.208624    0.065732    0.061867    0.018061  \n",
            "min      0.027290    0.000000    0.000000    0.156500    0.055040  \n",
            "25%      0.147200    0.114500    0.064930    0.250400    0.071460  \n",
            "50%      0.211900    0.226700    0.099930    0.282200    0.080040  \n",
            "75%      0.339100    0.382900    0.161400    0.317900    0.092080  \n",
            "max      1.058000    1.252000    0.291000    0.663800    0.207500  \n",
            "\n",
            "[8 rows x 31 columns]\n",
            "   1      2      3       4       5        6        7       8        9   \\\n",
            "0   1  17.99  10.38  122.80  1001.0  0.11840  0.27760  0.3001  0.14710   \n",
            "1   1  20.57  17.77  132.90  1326.0  0.08474  0.07864  0.0869  0.07017   \n",
            "2   1  19.69  21.25  130.00  1203.0  0.10960  0.15990  0.1974  0.12790   \n",
            "3   1  11.42  20.38   77.58   386.1  0.14250  0.28390  0.2414  0.10520   \n",
            "4   1  20.29  14.34  135.10  1297.0  0.10030  0.13280  0.1980  0.10430   \n",
            "\n",
            "       10  ...     22     23      24      25      26      27      28      29  \\\n",
            "0  0.2419  ...  25.38  17.33  184.60  2019.0  0.1622  0.6656  0.7119  0.2654   \n",
            "1  0.1812  ...  24.99  23.41  158.80  1956.0  0.1238  0.1866  0.2416  0.1860   \n",
            "2  0.2069  ...  23.57  25.53  152.50  1709.0  0.1444  0.4245  0.4504  0.2430   \n",
            "3  0.2597  ...  14.91  26.50   98.87   567.7  0.2098  0.8663  0.6869  0.2575   \n",
            "4  0.1809  ...  22.54  16.67  152.20  1575.0  0.1374  0.2050  0.4000  0.1625   \n",
            "\n",
            "       30       31  \n",
            "0  0.4601  0.11890  \n",
            "1  0.2750  0.08902  \n",
            "2  0.3613  0.08758  \n",
            "3  0.6638  0.17300  \n",
            "4  0.2364  0.07678  \n",
            "\n",
            "[5 rows x 31 columns]\n"
          ]
        }
      ],
      "source": [
        "df_train = df_train.drop(columns=0)\n",
        "df_train = df_train.replace({'M': 1, 'B': 0})\n",
        "\n",
        "#Verifica la cantidad de datos que hay en los dataset\n",
        "print('Cantidad de datos:')\n",
        "print(df_train.shape)\n",
        "\n",
        "#Verifica el tipo de datos contenida en ambos dataset\n",
        "print('Tipos de datos:')\n",
        "df_train.info()\n",
        "\n",
        "#Verifica los datos faltantes de los dataset\n",
        "print('Datos faltantes:')\n",
        "print(pd.isnull(df_train).sum())\n",
        "\n",
        "#Verifica las estadísticas básicas del dataset\n",
        "print('Estadísticas del dataset:')\n",
        "print(df_train.describe())\n",
        "\n",
        "#ultima muestra de datos\n",
        "print(df_train.head())"
      ]
    },
    {
      "cell_type": "markdown",
      "metadata": {
        "id": "aoCNx2xQ1Bqx"
      },
      "source": [
        "# Preprocesamiento de datos"
      ]
    },
    {
      "cell_type": "code",
      "execution_count": 5,
      "metadata": {
        "colab": {
          "base_uri": "https://localhost:8080/"
        },
        "id": "gZaYXdFp1Eqq",
        "outputId": "540c9478-543d-4e82-8513-48baf24f1861"
      },
      "outputs": [
        {
          "name": "stdout",
          "output_type": "stream",
          "text": [
            "1     0\n",
            "2     0\n",
            "3     0\n",
            "4     0\n",
            "5     0\n",
            "6     0\n",
            "7     0\n",
            "8     0\n",
            "9     0\n",
            "10    0\n",
            "11    0\n",
            "12    0\n",
            "13    0\n",
            "14    0\n",
            "15    0\n",
            "16    0\n",
            "17    0\n",
            "18    0\n",
            "19    0\n",
            "20    0\n",
            "21    0\n",
            "22    0\n",
            "23    0\n",
            "24    0\n",
            "25    0\n",
            "26    0\n",
            "27    0\n",
            "28    0\n",
            "29    0\n",
            "30    0\n",
            "31    0\n",
            "dtype: int64\n",
            "(569, 31)\n",
            "   1      2      3       4       5        6        7       8        9   \\\n",
            "0   1  17.99  10.38  122.80  1001.0  0.11840  0.27760  0.3001  0.14710   \n",
            "1   1  20.57  17.77  132.90  1326.0  0.08474  0.07864  0.0869  0.07017   \n",
            "2   1  19.69  21.25  130.00  1203.0  0.10960  0.15990  0.1974  0.12790   \n",
            "3   1  11.42  20.38   77.58   386.1  0.14250  0.28390  0.2414  0.10520   \n",
            "4   1  20.29  14.34  135.10  1297.0  0.10030  0.13280  0.1980  0.10430   \n",
            "\n",
            "       10  ...     22     23      24      25      26      27      28      29  \\\n",
            "0  0.2419  ...  25.38  17.33  184.60  2019.0  0.1622  0.6656  0.7119  0.2654   \n",
            "1  0.1812  ...  24.99  23.41  158.80  1956.0  0.1238  0.1866  0.2416  0.1860   \n",
            "2  0.2069  ...  23.57  25.53  152.50  1709.0  0.1444  0.4245  0.4504  0.2430   \n",
            "3  0.2597  ...  14.91  26.50   98.87   567.7  0.2098  0.8663  0.6869  0.2575   \n",
            "4  0.1809  ...  22.54  16.67  152.20  1575.0  0.1374  0.2050  0.4000  0.1625   \n",
            "\n",
            "       30       31  \n",
            "0  0.4601  0.11890  \n",
            "1  0.2750  0.08902  \n",
            "2  0.3613  0.08758  \n",
            "3  0.6638  0.17300  \n",
            "4  0.2364  0.07678  \n",
            "\n",
            "[5 rows x 31 columns]\n"
          ]
        }
      ],
      "source": [
        "########## Preprocesamiento de la data ##########\n",
        "\n",
        "#Verifica los datos faltantes y tamaño\n",
        "print(pd.isnull(df_train).sum())\n",
        "\n",
        "print(df_train.shape)\n",
        "\n",
        "print(df_train.head())\n",
        "\n",
        "# Guardar el DataFrame en un archivo CSV\n",
        "df_train.to_csv('train_procesado2.csv', index=False, sep=',', encoding='utf-8')"
      ]
    }
  ],
  "metadata": {
    "colab": {
      "provenance": [],
      "toc_visible": true
    },
    "kernelspec": {
      "display_name": "base",
      "language": "python",
      "name": "python3"
    },
    "language_info": {
      "codemirror_mode": {
        "name": "ipython",
        "version": 3
      },
      "file_extension": ".py",
      "mimetype": "text/x-python",
      "name": "python",
      "nbconvert_exporter": "python",
      "pygments_lexer": "ipython3",
      "version": "3.11.5"
    }
  },
  "nbformat": 4,
  "nbformat_minor": 0
}
